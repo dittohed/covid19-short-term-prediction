{
  "nbformat": 4,
  "nbformat_minor": 0,
  "metadata": {
    "colab": {
      "name": "LSTM training.ipynb",
      "provenance": [],
      "collapsed_sections": [
        "S5TVU6DUKKNF",
        "JNZii--WRPZl",
        "ma2xtfUZT47M",
        "AQq-QwXTip5a"
      ]
    },
    "kernelspec": {
      "name": "python3",
      "display_name": "Python 3"
    },
    "accelerator": "GPU"
  },
  "cells": [
    {
      "cell_type": "markdown",
      "metadata": {
        "id": "_8VjoRLjJt7W"
      },
      "source": [
        "# Short-term COVID-19 daily cases prediction using LSTM\n"
      ]
    },
    {
      "cell_type": "markdown",
      "metadata": {
        "id": "XajDwchaNbGK"
      },
      "source": [
        "The present notebook comprises loading the preprocessed data (see `EDA.ipynb`) and **training the model**. <br>\n",
        "Google Colab's free GPU was used for computation (~ 1 hour)."
      ]
    },
    {
      "cell_type": "code",
      "metadata": {
        "colab": {
          "base_uri": "https://localhost:8080/"
        },
        "id": "QtAmiczZNs6o",
        "outputId": "d0e9b4b3-1b3e-423b-a6fe-2ad3583b68f7"
      },
      "source": [
        "! nvidia-smi"
      ],
      "execution_count": 26,
      "outputs": [
        {
          "output_type": "stream",
          "text": [
            "Fri Mar 26 15:46:23 2021       \n",
            "+-----------------------------------------------------------------------------+\n",
            "| NVIDIA-SMI 460.56       Driver Version: 460.32.03    CUDA Version: 11.2     |\n",
            "|-------------------------------+----------------------+----------------------+\n",
            "| GPU  Name        Persistence-M| Bus-Id        Disp.A | Volatile Uncorr. ECC |\n",
            "| Fan  Temp  Perf  Pwr:Usage/Cap|         Memory-Usage | GPU-Util  Compute M. |\n",
            "|                               |                      |               MIG M. |\n",
            "|===============================+======================+======================|\n",
            "|   0  Tesla P4            Off  | 00000000:00:04.0 Off |                    0 |\n",
            "| N/A   52C    P0    24W /  75W |    445MiB /  7611MiB |      0%      Default |\n",
            "|                               |                      |                  N/A |\n",
            "+-------------------------------+----------------------+----------------------+\n",
            "                                                                               \n",
            "+-----------------------------------------------------------------------------+\n",
            "| Processes:                                                                  |\n",
            "|  GPU   GI   CI        PID   Type   Process name                  GPU Memory |\n",
            "|        ID   ID                                                   Usage      |\n",
            "|=============================================================================|\n",
            "+-----------------------------------------------------------------------------+\n"
          ],
          "name": "stdout"
        }
      ]
    },
    {
      "cell_type": "markdown",
      "metadata": {
        "id": "S5TVU6DUKKNF"
      },
      "source": [
        "### Imports, loading the data"
      ]
    },
    {
      "cell_type": "code",
      "metadata": {
        "id": "QFd9NdV5BQDC"
      },
      "source": [
        "import pandas as pd\n",
        "import numpy as np\n",
        "\n",
        "import matplotlib.pyplot as plt\n",
        "plt.style.use('seaborn')\n",
        "import plotly.express as px\n",
        "import plotly.graph_objects as go\n",
        "from plotly.subplots import make_subplots\n",
        "\n",
        "from tensorflow.keras.models import Sequential\n",
        "from tensorflow.keras.layers import Dense, LSTM, Dropout\n",
        "from tensorflow.keras.regularizers import l2\n",
        "from tensorflow.keras.optimizers import Adam\n",
        "from tensorflow.keras.callbacks import EarlyStopping, ReduceLROnPlateau\n",
        "\n",
        "from sklearn.preprocessing import StandardScaler"
      ],
      "execution_count": 1,
      "outputs": []
    },
    {
      "cell_type": "code",
      "metadata": {
        "id": "9qLFvorTRMSc",
        "colab": {
          "base_uri": "https://localhost:8080/",
          "height": 215
        },
        "outputId": "413d7ab6-35b0-4bc9-8402-450b39349f6c"
      },
      "source": [
        "df = pd.read_csv('../data/COVID-19-Poland-preprocessed.csv')\n",
        "df.set_index('day', inplace = True)\n",
        "df.head()"
      ],
      "execution_count": 3,
      "outputs": [
        {
          "output_type": "execute_result",
          "data": {
            "text/html": [
              "<div>\n",
              "<style scoped>\n",
              "    .dataframe tbody tr th:only-of-type {\n",
              "        vertical-align: middle;\n",
              "    }\n",
              "\n",
              "    .dataframe tbody tr th {\n",
              "        vertical-align: top;\n",
              "    }\n",
              "\n",
              "    .dataframe thead th {\n",
              "        text-align: right;\n",
              "    }\n",
              "</style>\n",
              "<table border=\"1\" class=\"dataframe\">\n",
              "  <thead>\n",
              "    <tr style=\"text-align: right;\">\n",
              "      <th></th>\n",
              "      <th>cases</th>\n",
              "      <th>recovered</th>\n",
              "      <th>tests</th>\n",
              "      <th>hospitalized</th>\n",
              "      <th>quaran</th>\n",
              "      <th>supervised</th>\n",
              "    </tr>\n",
              "    <tr>\n",
              "      <th>day</th>\n",
              "      <th></th>\n",
              "      <th></th>\n",
              "      <th></th>\n",
              "      <th></th>\n",
              "      <th></th>\n",
              "      <th></th>\n",
              "    </tr>\n",
              "  </thead>\n",
              "  <tbody>\n",
              "    <tr>\n",
              "      <th>2020-10-04</th>\n",
              "      <td>-433.0</td>\n",
              "      <td>-0.169849</td>\n",
              "      <td>-0.777418</td>\n",
              "      <td>-0.725196</td>\n",
              "      <td>-0.045921</td>\n",
              "      <td>-0.170547</td>\n",
              "    </tr>\n",
              "    <tr>\n",
              "      <th>2020-10-05</th>\n",
              "      <td>72.0</td>\n",
              "      <td>-0.291918</td>\n",
              "      <td>0.516995</td>\n",
              "      <td>0.498107</td>\n",
              "      <td>0.005186</td>\n",
              "      <td>-0.384652</td>\n",
              "    </tr>\n",
              "    <tr>\n",
              "      <th>2020-10-06</th>\n",
              "      <td>230.0</td>\n",
              "      <td>-0.092515</td>\n",
              "      <td>1.902842</td>\n",
              "      <td>-0.403274</td>\n",
              "      <td>-0.699526</td>\n",
              "      <td>0.351302</td>\n",
              "    </tr>\n",
              "    <tr>\n",
              "      <th>2020-10-07</th>\n",
              "      <td>767.0</td>\n",
              "      <td>0.231840</td>\n",
              "      <td>-0.030738</td>\n",
              "      <td>-0.863623</td>\n",
              "      <td>0.761977</td>\n",
              "      <td>0.375501</td>\n",
              "    </tr>\n",
              "    <tr>\n",
              "      <th>2020-10-08</th>\n",
              "      <td>1277.0</td>\n",
              "      <td>-0.158052</td>\n",
              "      <td>-1.324570</td>\n",
              "      <td>-0.441905</td>\n",
              "      <td>0.462450</td>\n",
              "      <td>1.041227</td>\n",
              "    </tr>\n",
              "  </tbody>\n",
              "</table>\n",
              "</div>"
            ],
            "text/plain": [
              "             cases  recovered     tests  hospitalized    quaran  supervised\n",
              "day                                                                        \n",
              "2020-10-04  -433.0  -0.169849 -0.777418     -0.725196 -0.045921   -0.170547\n",
              "2020-10-05    72.0  -0.291918  0.516995      0.498107  0.005186   -0.384652\n",
              "2020-10-06   230.0  -0.092515  1.902842     -0.403274 -0.699526    0.351302\n",
              "2020-10-07   767.0   0.231840 -0.030738     -0.863623  0.761977    0.375501\n",
              "2020-10-08  1277.0  -0.158052 -1.324570     -0.441905  0.462450    1.041227"
            ]
          },
          "metadata": {
            "tags": []
          },
          "execution_count": 3
        }
      ]
    },
    {
      "cell_type": "markdown",
      "metadata": {
        "id": "JNZii--WRPZl"
      },
      "source": [
        "### Target variable normalization (for better learning process interpretability)"
      ]
    },
    {
      "cell_type": "code",
      "metadata": {
        "colab": {
          "base_uri": "https://localhost:8080/",
          "height": 215
        },
        "id": "jYPjkGBlRVzg",
        "outputId": "ccb73d62-6084-46d8-beaa-465e3b8b022b"
      },
      "source": [
        "scaler = StandardScaler()\n",
        "scaler.fit(df['cases'].to_numpy().reshape(-1, 1))\n",
        "\n",
        "cases = df['cases'].to_numpy() # unnormed cases might be useful later\n",
        "df['cases_norm'] = scaler.transform(df['cases'].to_numpy().reshape(-1, 1))\n",
        "df.drop(columns = ['cases'], inplace = True)\n",
        "df.head()"
      ],
      "execution_count": 4,
      "outputs": [
        {
          "output_type": "execute_result",
          "data": {
            "text/html": [
              "<div>\n",
              "<style scoped>\n",
              "    .dataframe tbody tr th:only-of-type {\n",
              "        vertical-align: middle;\n",
              "    }\n",
              "\n",
              "    .dataframe tbody tr th {\n",
              "        vertical-align: top;\n",
              "    }\n",
              "\n",
              "    .dataframe thead th {\n",
              "        text-align: right;\n",
              "    }\n",
              "</style>\n",
              "<table border=\"1\" class=\"dataframe\">\n",
              "  <thead>\n",
              "    <tr style=\"text-align: right;\">\n",
              "      <th></th>\n",
              "      <th>recovered</th>\n",
              "      <th>tests</th>\n",
              "      <th>hospitalized</th>\n",
              "      <th>quaran</th>\n",
              "      <th>supervised</th>\n",
              "      <th>cases_norm</th>\n",
              "    </tr>\n",
              "    <tr>\n",
              "      <th>day</th>\n",
              "      <th></th>\n",
              "      <th></th>\n",
              "      <th></th>\n",
              "      <th></th>\n",
              "      <th></th>\n",
              "      <th></th>\n",
              "    </tr>\n",
              "  </thead>\n",
              "  <tbody>\n",
              "    <tr>\n",
              "      <th>2020-10-04</th>\n",
              "      <td>-0.169849</td>\n",
              "      <td>-0.777418</td>\n",
              "      <td>-0.725196</td>\n",
              "      <td>-0.045921</td>\n",
              "      <td>-0.170547</td>\n",
              "      <td>-0.392945</td>\n",
              "    </tr>\n",
              "    <tr>\n",
              "      <th>2020-10-05</th>\n",
              "      <td>-0.291918</td>\n",
              "      <td>0.516995</td>\n",
              "      <td>0.498107</td>\n",
              "      <td>0.005186</td>\n",
              "      <td>-0.384652</td>\n",
              "      <td>-0.159952</td>\n",
              "    </tr>\n",
              "    <tr>\n",
              "      <th>2020-10-06</th>\n",
              "      <td>-0.092515</td>\n",
              "      <td>1.902842</td>\n",
              "      <td>-0.403274</td>\n",
              "      <td>-0.699526</td>\n",
              "      <td>0.351302</td>\n",
              "      <td>-0.087055</td>\n",
              "    </tr>\n",
              "    <tr>\n",
              "      <th>2020-10-07</th>\n",
              "      <td>0.231840</td>\n",
              "      <td>-0.030738</td>\n",
              "      <td>-0.863623</td>\n",
              "      <td>0.761977</td>\n",
              "      <td>0.375501</td>\n",
              "      <td>0.160702</td>\n",
              "    </tr>\n",
              "    <tr>\n",
              "      <th>2020-10-08</th>\n",
              "      <td>-0.158052</td>\n",
              "      <td>-1.324570</td>\n",
              "      <td>-0.441905</td>\n",
              "      <td>0.462450</td>\n",
              "      <td>1.041227</td>\n",
              "      <td>0.396002</td>\n",
              "    </tr>\n",
              "  </tbody>\n",
              "</table>\n",
              "</div>"
            ],
            "text/plain": [
              "            recovered     tests  hospitalized    quaran  supervised  cases_norm\n",
              "day                                                                            \n",
              "2020-10-04  -0.169849 -0.777418     -0.725196 -0.045921   -0.170547   -0.392945\n",
              "2020-10-05  -0.291918  0.516995      0.498107  0.005186   -0.384652   -0.159952\n",
              "2020-10-06  -0.092515  1.902842     -0.403274 -0.699526    0.351302   -0.087055\n",
              "2020-10-07   0.231840 -0.030738     -0.863623  0.761977    0.375501    0.160702\n",
              "2020-10-08  -0.158052 -1.324570     -0.441905  0.462450    1.041227    0.396002"
            ]
          },
          "metadata": {
            "tags": []
          },
          "execution_count": 4
        }
      ]
    },
    {
      "cell_type": "markdown",
      "metadata": {
        "id": "ma2xtfUZT47M"
      },
      "source": [
        "### Getting data ready for training"
      ]
    },
    {
      "cell_type": "markdown",
      "metadata": {
        "id": "tReae931ePCK"
      },
      "source": [
        "Based on: [YouTube](https://www.youtube.com/watch?v=gSYiKKoREFI)"
      ]
    },
    {
      "cell_type": "code",
      "metadata": {
        "id": "PHJqUKH8XCWR"
      },
      "source": [
        "n_future = 9 # number of days to predict cases for\n",
        "n_past = 14 # number of days that prediction will rely on"
      ],
      "execution_count": 5,
      "outputs": []
    },
    {
      "cell_type": "code",
      "metadata": {
        "id": "6JINX2FsYFvg"
      },
      "source": [
        "# need an array representation\n",
        "data = df.to_numpy()\n",
        "\n",
        "X = []\n",
        "y = []\n",
        "\n",
        "for i in range(n_past, data.shape[0] - n_future + 1):\n",
        "    X.append(data[i - n_past : i]) # X = [data[0 : 14], data[1 : 15], ...]\n",
        "    y.append(data[i + n_future - 1, 0]) # y = [data[20, 0], data[21, 0], ...]\n",
        "\n",
        "X, y = np.array(X), np.array(y)"
      ],
      "execution_count": 6,
      "outputs": []
    },
    {
      "cell_type": "code",
      "metadata": {
        "id": "hyGuZgbedtnw",
        "colab": {
          "base_uri": "https://localhost:8080/"
        },
        "outputId": "4bc3af35-2133-439a-a3ab-f6c0516ae0e2"
      },
      "source": [
        "X.shape, y.shape"
      ],
      "execution_count": 7,
      "outputs": [
        {
          "output_type": "execute_result",
          "data": {
            "text/plain": [
              "((26, 14, 6), (26,))"
            ]
          },
          "metadata": {
            "tags": []
          },
          "execution_count": 7
        }
      ]
    },
    {
      "cell_type": "markdown",
      "metadata": {
        "id": "nhjz1L8GOG6N"
      },
      "source": [
        "`X.shape` = (no. samples, no. steps per sample, no. feautures)"
      ]
    },
    {
      "cell_type": "markdown",
      "metadata": {
        "id": "vCpHJReaeiMT"
      },
      "source": [
        "### Model defining & training using grid search "
      ]
    },
    {
      "cell_type": "markdown",
      "metadata": {
        "id": "TDYFDOeDPxbE"
      },
      "source": [
        "The dataset is pretty small, hence NN should be rather simple. In this particular case using **grid search might be a good idea on account of very quick training process** (based on idea from [this article](https://machinelearningmastery.com/how-to-grid-search-deep-learning-models-for-time-series-forecasting/)). <br>\n",
        "Hyperparameters to be tuned:\n",
        "* dropout rate;\n",
        "* layer size;\n",
        "* learning rate;\n",
        "* kernel regularization parameter;\n",
        "* recurrent regularization parameter."
      ]
    },
    {
      "cell_type": "code",
      "metadata": {
        "id": "3DMe2RQ2QNVf"
      },
      "source": [
        "param_grid = {\n",
        "    'dropout' : [0.1, 0.2, 0.3, 0.4],\n",
        "    'no_units' : [16, 32, 64],\n",
        "    'lr' : [0.001, 0.01],\n",
        "    'ker_reg' : [0.001, 0.01],\n",
        "    'rec_reg' :  [0.001, 0.01]\n",
        "}"
      ],
      "execution_count": 8,
      "outputs": []
    },
    {
      "cell_type": "code",
      "metadata": {
        "colab": {
          "base_uri": "https://localhost:8080/"
        },
        "id": "BqEeFAdQXTvG",
        "outputId": "1fd6ff09-ed18-4de5-e78c-7d058c117a49"
      },
      "source": [
        "# using list comprehension to get all the possible configs\n",
        "possible_configs = [(d, u, l, k, r) \n",
        "  for d in param_grid['dropout'] \n",
        "  for u in param_grid['no_units'] \n",
        "  for l in param_grid['lr']\n",
        "  for k in param_grid['ker_reg']\n",
        "  for r in param_grid['rec_reg']]\n",
        "\n",
        "for config in possible_configs:\n",
        "  print(config)"
      ],
      "execution_count": 9,
      "outputs": [
        {
          "output_type": "stream",
          "text": [
            "(0.1, 16, 0.001, 0.001, 0.001)\n",
            "(0.1, 16, 0.001, 0.001, 0.01)\n",
            "(0.1, 16, 0.001, 0.01, 0.001)\n",
            "(0.1, 16, 0.001, 0.01, 0.01)\n",
            "(0.1, 16, 0.01, 0.001, 0.001)\n",
            "(0.1, 16, 0.01, 0.001, 0.01)\n",
            "(0.1, 16, 0.01, 0.01, 0.001)\n",
            "(0.1, 16, 0.01, 0.01, 0.01)\n",
            "(0.1, 32, 0.001, 0.001, 0.001)\n",
            "(0.1, 32, 0.001, 0.001, 0.01)\n",
            "(0.1, 32, 0.001, 0.01, 0.001)\n",
            "(0.1, 32, 0.001, 0.01, 0.01)\n",
            "(0.1, 32, 0.01, 0.001, 0.001)\n",
            "(0.1, 32, 0.01, 0.001, 0.01)\n",
            "(0.1, 32, 0.01, 0.01, 0.001)\n",
            "(0.1, 32, 0.01, 0.01, 0.01)\n",
            "(0.1, 64, 0.001, 0.001, 0.001)\n",
            "(0.1, 64, 0.001, 0.001, 0.01)\n",
            "(0.1, 64, 0.001, 0.01, 0.001)\n",
            "(0.1, 64, 0.001, 0.01, 0.01)\n",
            "(0.1, 64, 0.01, 0.001, 0.001)\n",
            "(0.1, 64, 0.01, 0.001, 0.01)\n",
            "(0.1, 64, 0.01, 0.01, 0.001)\n",
            "(0.1, 64, 0.01, 0.01, 0.01)\n",
            "(0.2, 16, 0.001, 0.001, 0.001)\n",
            "(0.2, 16, 0.001, 0.001, 0.01)\n",
            "(0.2, 16, 0.001, 0.01, 0.001)\n",
            "(0.2, 16, 0.001, 0.01, 0.01)\n",
            "(0.2, 16, 0.01, 0.001, 0.001)\n",
            "(0.2, 16, 0.01, 0.001, 0.01)\n",
            "(0.2, 16, 0.01, 0.01, 0.001)\n",
            "(0.2, 16, 0.01, 0.01, 0.01)\n",
            "(0.2, 32, 0.001, 0.001, 0.001)\n",
            "(0.2, 32, 0.001, 0.001, 0.01)\n",
            "(0.2, 32, 0.001, 0.01, 0.001)\n",
            "(0.2, 32, 0.001, 0.01, 0.01)\n",
            "(0.2, 32, 0.01, 0.001, 0.001)\n",
            "(0.2, 32, 0.01, 0.001, 0.01)\n",
            "(0.2, 32, 0.01, 0.01, 0.001)\n",
            "(0.2, 32, 0.01, 0.01, 0.01)\n",
            "(0.2, 64, 0.001, 0.001, 0.001)\n",
            "(0.2, 64, 0.001, 0.001, 0.01)\n",
            "(0.2, 64, 0.001, 0.01, 0.001)\n",
            "(0.2, 64, 0.001, 0.01, 0.01)\n",
            "(0.2, 64, 0.01, 0.001, 0.001)\n",
            "(0.2, 64, 0.01, 0.001, 0.01)\n",
            "(0.2, 64, 0.01, 0.01, 0.001)\n",
            "(0.2, 64, 0.01, 0.01, 0.01)\n",
            "(0.3, 16, 0.001, 0.001, 0.001)\n",
            "(0.3, 16, 0.001, 0.001, 0.01)\n",
            "(0.3, 16, 0.001, 0.01, 0.001)\n",
            "(0.3, 16, 0.001, 0.01, 0.01)\n",
            "(0.3, 16, 0.01, 0.001, 0.001)\n",
            "(0.3, 16, 0.01, 0.001, 0.01)\n",
            "(0.3, 16, 0.01, 0.01, 0.001)\n",
            "(0.3, 16, 0.01, 0.01, 0.01)\n",
            "(0.3, 32, 0.001, 0.001, 0.001)\n",
            "(0.3, 32, 0.001, 0.001, 0.01)\n",
            "(0.3, 32, 0.001, 0.01, 0.001)\n",
            "(0.3, 32, 0.001, 0.01, 0.01)\n",
            "(0.3, 32, 0.01, 0.001, 0.001)\n",
            "(0.3, 32, 0.01, 0.001, 0.01)\n",
            "(0.3, 32, 0.01, 0.01, 0.001)\n",
            "(0.3, 32, 0.01, 0.01, 0.01)\n",
            "(0.3, 64, 0.001, 0.001, 0.001)\n",
            "(0.3, 64, 0.001, 0.001, 0.01)\n",
            "(0.3, 64, 0.001, 0.01, 0.001)\n",
            "(0.3, 64, 0.001, 0.01, 0.01)\n",
            "(0.3, 64, 0.01, 0.001, 0.001)\n",
            "(0.3, 64, 0.01, 0.001, 0.01)\n",
            "(0.3, 64, 0.01, 0.01, 0.001)\n",
            "(0.3, 64, 0.01, 0.01, 0.01)\n",
            "(0.4, 16, 0.001, 0.001, 0.001)\n",
            "(0.4, 16, 0.001, 0.001, 0.01)\n",
            "(0.4, 16, 0.001, 0.01, 0.001)\n",
            "(0.4, 16, 0.001, 0.01, 0.01)\n",
            "(0.4, 16, 0.01, 0.001, 0.001)\n",
            "(0.4, 16, 0.01, 0.001, 0.01)\n",
            "(0.4, 16, 0.01, 0.01, 0.001)\n",
            "(0.4, 16, 0.01, 0.01, 0.01)\n",
            "(0.4, 32, 0.001, 0.001, 0.001)\n",
            "(0.4, 32, 0.001, 0.001, 0.01)\n",
            "(0.4, 32, 0.001, 0.01, 0.001)\n",
            "(0.4, 32, 0.001, 0.01, 0.01)\n",
            "(0.4, 32, 0.01, 0.001, 0.001)\n",
            "(0.4, 32, 0.01, 0.001, 0.01)\n",
            "(0.4, 32, 0.01, 0.01, 0.001)\n",
            "(0.4, 32, 0.01, 0.01, 0.01)\n",
            "(0.4, 64, 0.001, 0.001, 0.001)\n",
            "(0.4, 64, 0.001, 0.001, 0.01)\n",
            "(0.4, 64, 0.001, 0.01, 0.001)\n",
            "(0.4, 64, 0.001, 0.01, 0.01)\n",
            "(0.4, 64, 0.01, 0.001, 0.001)\n",
            "(0.4, 64, 0.01, 0.001, 0.01)\n",
            "(0.4, 64, 0.01, 0.01, 0.001)\n",
            "(0.4, 64, 0.01, 0.01, 0.01)\n"
          ],
          "name": "stdout"
        }
      ]
    },
    {
      "cell_type": "markdown",
      "metadata": {
        "id": "KbLYQSV0V0u5"
      },
      "source": [
        "Since, in this case, NN might be prone to particular initialization **I will run the training 5 times for each configuration and then pick the best one**. <br>\n",
        "Let's define necessary functions first."
      ]
    },
    {
      "cell_type": "code",
      "metadata": {
        "id": "lR55X4xFfbg4"
      },
      "source": [
        "# define model building and training function with particular parameters \n",
        "def build_train_model(dropout, no_units, lr, ker_reg, rec_reg):\n",
        "  # building part\n",
        "  model = Sequential([\n",
        "      # first layer\n",
        "      LSTM(units = no_units, kernel_regularizer = l2(ker_reg), recurrent_regularizer = l2(rec_reg),\n",
        "                return_sequences = True, input_shape = (n_past, X.shape[2])),\n",
        "      Dropout(dropout),\n",
        "\n",
        "      # second layer\n",
        "      LSTM(units = no_units, kernel_regularizer = l2(ker_reg), recurrent_regularizer = l2(rec_reg),\n",
        "                return_sequences = False),\n",
        "      Dropout(dropout),\n",
        "\n",
        "      # output layer\n",
        "      Dense(units = 1, activation = 'linear')\n",
        "  ])\n",
        "\n",
        "  model.compile(optimizer = Adam(learning_rate = lr), loss = 'mean_squared_error')\n",
        "\n",
        "  # training part - using large number of epochs with early stopping for convenience\n",
        "  es = EarlyStopping(monitor = 'val_loss', min_delta = 1e-10, patience = 10, verbose = 0)\n",
        "  history = model.fit(X, y, \n",
        "                      shuffle = False, epochs = 300, callbacks = [es], \n",
        "                      validation_split = 0.2, verbose = 0, batch_size = X.shape[0])\n",
        "  \n",
        "  return model, history"
      ],
      "execution_count": 10,
      "outputs": []
    },
    {
      "cell_type": "code",
      "metadata": {
        "id": "5Eb3EXgOX8FM"
      },
      "source": [
        "def evaluate_config(config): # pick the best run for a particular configuration\n",
        "  min_loss = 1000\n",
        "\n",
        "  for _ in range(5):\n",
        "    model, history = build_train_model(*config)\n",
        "\n",
        "    if min(history.history['val_loss']) < min_loss:\n",
        "      min_loss = min(history.history['val_loss'])\n",
        "      best_model = model\n",
        "      best_history = history\n",
        "\n",
        "  return best_model, best_history, min_loss"
      ],
      "execution_count": 11,
      "outputs": []
    },
    {
      "cell_type": "code",
      "metadata": {
        "id": "TEPd0WuWdqBe"
      },
      "source": [
        "def pick_best_model(possible_configs): # does the grid search and returns the best model\n",
        "  min_loss = 1000\n",
        "\n",
        "  for i, config in enumerate(possible_configs):\n",
        "    model, history, loss = evaluate_config(config) # returns the best model for current config\n",
        "\n",
        "    if(loss < min_loss):\n",
        "      min_loss = loss\n",
        "      best_model = model\n",
        "      best_history = history\n",
        "      best_config = config\n",
        "\n",
        "    print(f'{i+1} configs checked, current min_loss = {min_loss}')\n",
        "\n",
        "  print('Best config:')\n",
        "  print(f'Dropout: {best_config[0]}')\n",
        "  print(f'No. of units: {best_config[1]}')\n",
        "  print(f'Learning rate: {best_config[2]}')\n",
        "  print(f'Kernel regularization: {best_config[3]}')\n",
        "  print(f'Recurrent regularization: {best_config[4]}')\n",
        "\n",
        "  return best_model, best_history"
      ],
      "execution_count": 12,
      "outputs": []
    },
    {
      "cell_type": "code",
      "metadata": {
        "colab": {
          "base_uri": "https://localhost:8080/"
        },
        "id": "wZbanTVjev_7",
        "outputId": "500dfc42-7096-4115-dac1-39d005aac1c5"
      },
      "source": [
        "model, history = pick_best_model(possible_configs)"
      ],
      "execution_count": 13,
      "outputs": [
        {
          "output_type": "stream",
          "text": [
            "1 configs checked, current min_loss = 2.3285956382751465\n",
            "2 configs checked, current min_loss = 2.3285956382751465\n",
            "3 configs checked, current min_loss = 2.110929489135742\n",
            "4 configs checked, current min_loss = 2.110929489135742\n",
            "5 configs checked, current min_loss = 2.049184799194336\n",
            "6 configs checked, current min_loss = 2.049184799194336\n",
            "7 configs checked, current min_loss = 1.8724225759506226\n",
            "8 configs checked, current min_loss = 1.8724225759506226\n",
            "9 configs checked, current min_loss = 1.8724225759506226\n",
            "10 configs checked, current min_loss = 1.8724225759506226\n",
            "11 configs checked, current min_loss = 1.8724225759506226\n",
            "12 configs checked, current min_loss = 1.8724225759506226\n",
            "13 configs checked, current min_loss = 1.8724225759506226\n",
            "14 configs checked, current min_loss = 1.8724225759506226\n",
            "15 configs checked, current min_loss = 1.5765787363052368\n",
            "16 configs checked, current min_loss = 1.5765787363052368\n",
            "17 configs checked, current min_loss = 1.5765787363052368\n",
            "18 configs checked, current min_loss = 1.5765787363052368\n",
            "19 configs checked, current min_loss = 1.5765787363052368\n",
            "20 configs checked, current min_loss = 1.5765787363052368\n",
            "21 configs checked, current min_loss = 1.5765787363052368\n",
            "22 configs checked, current min_loss = 1.5765787363052368\n",
            "23 configs checked, current min_loss = 1.5765787363052368\n",
            "24 configs checked, current min_loss = 1.5765787363052368\n",
            "25 configs checked, current min_loss = 1.5765787363052368\n",
            "26 configs checked, current min_loss = 1.5765787363052368\n",
            "27 configs checked, current min_loss = 1.5765787363052368\n",
            "28 configs checked, current min_loss = 1.5765787363052368\n",
            "29 configs checked, current min_loss = 1.5765787363052368\n",
            "30 configs checked, current min_loss = 1.5765787363052368\n",
            "31 configs checked, current min_loss = 1.5765787363052368\n",
            "32 configs checked, current min_loss = 1.5765787363052368\n",
            "33 configs checked, current min_loss = 1.5765787363052368\n",
            "34 configs checked, current min_loss = 1.5765787363052368\n",
            "35 configs checked, current min_loss = 1.1596465110778809\n",
            "36 configs checked, current min_loss = 1.1596465110778809\n",
            "37 configs checked, current min_loss = 1.1596465110778809\n",
            "38 configs checked, current min_loss = 1.1596465110778809\n",
            "39 configs checked, current min_loss = 1.1596465110778809\n",
            "40 configs checked, current min_loss = 1.1596465110778809\n",
            "41 configs checked, current min_loss = 1.1596465110778809\n",
            "42 configs checked, current min_loss = 1.1596465110778809\n",
            "43 configs checked, current min_loss = 1.1596465110778809\n",
            "44 configs checked, current min_loss = 1.1596465110778809\n",
            "45 configs checked, current min_loss = 1.1596465110778809\n",
            "46 configs checked, current min_loss = 1.1596465110778809\n",
            "47 configs checked, current min_loss = 1.1596465110778809\n",
            "48 configs checked, current min_loss = 1.1596465110778809\n",
            "49 configs checked, current min_loss = 1.1596465110778809\n",
            "50 configs checked, current min_loss = 1.1596465110778809\n",
            "51 configs checked, current min_loss = 1.1596465110778809\n",
            "52 configs checked, current min_loss = 1.1596465110778809\n",
            "53 configs checked, current min_loss = 1.1596465110778809\n",
            "54 configs checked, current min_loss = 1.1596465110778809\n",
            "55 configs checked, current min_loss = 1.1596465110778809\n",
            "56 configs checked, current min_loss = 1.1596465110778809\n",
            "57 configs checked, current min_loss = 1.1596465110778809\n",
            "58 configs checked, current min_loss = 1.1596465110778809\n",
            "59 configs checked, current min_loss = 1.1596465110778809\n",
            "60 configs checked, current min_loss = 1.1596465110778809\n",
            "61 configs checked, current min_loss = 1.1596465110778809\n",
            "62 configs checked, current min_loss = 1.1596465110778809\n",
            "63 configs checked, current min_loss = 1.1596465110778809\n",
            "64 configs checked, current min_loss = 1.1596465110778809\n",
            "65 configs checked, current min_loss = 1.1596465110778809\n",
            "66 configs checked, current min_loss = 1.1596465110778809\n",
            "67 configs checked, current min_loss = 1.1596465110778809\n",
            "68 configs checked, current min_loss = 1.1596465110778809\n",
            "69 configs checked, current min_loss = 1.1596465110778809\n",
            "70 configs checked, current min_loss = 1.1596465110778809\n",
            "71 configs checked, current min_loss = 1.1596465110778809\n",
            "72 configs checked, current min_loss = 1.1596465110778809\n",
            "73 configs checked, current min_loss = 1.1596465110778809\n",
            "74 configs checked, current min_loss = 1.1596465110778809\n",
            "75 configs checked, current min_loss = 1.1596465110778809\n",
            "76 configs checked, current min_loss = 1.1596465110778809\n",
            "77 configs checked, current min_loss = 1.1596465110778809\n",
            "78 configs checked, current min_loss = 1.1596465110778809\n",
            "79 configs checked, current min_loss = 1.1596465110778809\n",
            "80 configs checked, current min_loss = 1.1596465110778809\n",
            "81 configs checked, current min_loss = 1.1596465110778809\n",
            "82 configs checked, current min_loss = 1.1596465110778809\n",
            "83 configs checked, current min_loss = 1.1596465110778809\n",
            "84 configs checked, current min_loss = 1.1596465110778809\n",
            "85 configs checked, current min_loss = 1.1596465110778809\n",
            "86 configs checked, current min_loss = 1.1596465110778809\n",
            "87 configs checked, current min_loss = 1.1596465110778809\n",
            "88 configs checked, current min_loss = 1.1596465110778809\n",
            "89 configs checked, current min_loss = 1.1596465110778809\n",
            "90 configs checked, current min_loss = 1.1596465110778809\n",
            "91 configs checked, current min_loss = 1.1596465110778809\n",
            "92 configs checked, current min_loss = 1.1596465110778809\n",
            "93 configs checked, current min_loss = 1.1596465110778809\n",
            "94 configs checked, current min_loss = 1.1596465110778809\n",
            "95 configs checked, current min_loss = 1.1596465110778809\n",
            "96 configs checked, current min_loss = 1.1596465110778809\n",
            "Best config:\n",
            "Dropout: 0.2\n",
            "No. of units: 32\n",
            "Learning rate: 0.001\n",
            "Kernel regularization: 0.01\n",
            "Recurrent regularization: 0.001\n"
          ],
          "name": "stdout"
        }
      ]
    },
    {
      "cell_type": "code",
      "metadata": {
        "colab": {
          "base_uri": "https://localhost:8080/",
          "height": 294
        },
        "id": "712bWvb3J8lx",
        "outputId": "8bd239e9-bda4-4b12-a745-2dbff43c4c96"
      },
      "source": [
        "# learning curves for the best model\n",
        "plt.plot(history.history['loss'])\n",
        "plt.plot(history.history['val_loss'])\n",
        "\n",
        "plt.title('Loss vs epochs')\n",
        "plt.ylabel('Loss')\n",
        "plt.xlabel('Epochs')\n",
        "plt.legend(['train', 'val'], loc = 'upper right')\n",
        "\n",
        "plt.show()"
      ],
      "execution_count": 14,
      "outputs": [
        {
          "output_type": "display_data",
          "data": {
            "image/png": "[encoded data removed]",
            "text/plain": [
              "<Figure size 432x288 with 1 Axes>"
            ]
          },
          "metadata": {
            "tags": [],
            "needs_background": "light"
          }
        }
      ]
    },
    {
      "cell_type": "markdown",
      "metadata": {
        "id": "AQq-QwXTip5a"
      },
      "source": [
        "### Calculating undiffed prediction (predicted new daily cases for next 9 days)"
      ]
    },
    {
      "cell_type": "code",
      "metadata": {
        "id": "cfqC7l4zivmZ"
      },
      "source": [
        "preds = model.predict(X[-n_future : ])"
      ],
      "execution_count": 17,
      "outputs": []
    },
    {
      "cell_type": "code",
      "metadata": {
        "id": "kdsvemhDaQt5"
      },
      "source": [
        "preds = scaler.inverse_transform(preds) # denormalizing"
      ],
      "execution_count": 18,
      "outputs": []
    },
    {
      "cell_type": "code",
      "metadata": {
        "id": "DAF-JR5oaYue"
      },
      "source": [
        "# undifferencing\n",
        "x, x_diff = np.array([25221]).reshape(-1, 1), preds # hardcoded 25221 is a first true label undiffed value\n",
        "preds_inversed = np.r_[x, x_diff].cumsum().astype(int)"
      ],
      "execution_count": 19,
      "outputs": []
    },
    {
      "cell_type": "code",
      "metadata": {
        "colab": {
          "base_uri": "https://localhost:8080/"
        },
        "id": "xmmYJ0fiUqpO",
        "outputId": "71d78b30-a53a-4162-aba8-825ce46c52ed"
      },
      "source": [
        "preds_inversed[1 : ] # these are the predicted NEW DAILY cases for next 9 days"
      ],
      "execution_count": 20,
      "outputs": [
        {
          "output_type": "execute_result",
          "data": {
            "text/plain": [
              "array([24633, 26838, 28951, 26205, 25069, 26852, 24802, 25168, 26669])"
            ]
          },
          "metadata": {
            "tags": []
          },
          "execution_count": 20
        }
      ]
    },
    {
      "cell_type": "markdown",
      "metadata": {
        "id": "n60fUe-FcM6l"
      },
      "source": [
        "### Results visualization (using daily differences)"
      ]
    },
    {
      "cell_type": "code",
      "metadata": {
        "id": "xtkz21MQnd72"
      },
      "source": [
        "preds_days = df.index.tolist()\n",
        "preds_days = preds_days[-preds.shape[0] : ]\n",
        "df_preds = pd.DataFrame(data = preds, index = preds_days, columns = ['cases_pred'])"
      ],
      "execution_count": 21,
      "outputs": []
    },
    {
      "cell_type": "code",
      "metadata": {
        "id": "-xiYkYNJqGTX",
        "colab": {
          "base_uri": "https://localhost:8080/",
          "height": 300
        },
        "outputId": "bef1fddd-9620-4d04-f583-585cccb0afd6"
      },
      "source": [
        "df_preds"
      ],
      "execution_count": 22,
      "outputs": [
        {
          "output_type": "execute_result",
          "data": {
            "text/html": [
              "<div>\n",
              "<style scoped>\n",
              "    .dataframe tbody tr th:only-of-type {\n",
              "        vertical-align: middle;\n",
              "    }\n",
              "\n",
              "    .dataframe tbody tr th {\n",
              "        vertical-align: top;\n",
              "    }\n",
              "\n",
              "    .dataframe thead th {\n",
              "        text-align: right;\n",
              "    }\n",
              "</style>\n",
              "<table border=\"1\" class=\"dataframe\">\n",
              "  <thead>\n",
              "    <tr style=\"text-align: right;\">\n",
              "      <th></th>\n",
              "      <th>cases_pred</th>\n",
              "    </tr>\n",
              "  </thead>\n",
              "  <tbody>\n",
              "    <tr>\n",
              "      <th>2020-11-12</th>\n",
              "      <td>-587.034241</td>\n",
              "    </tr>\n",
              "    <tr>\n",
              "      <th>2020-11-13</th>\n",
              "      <td>2204.250000</td>\n",
              "    </tr>\n",
              "    <tr>\n",
              "      <th>2020-11-14</th>\n",
              "      <td>2113.248779</td>\n",
              "    </tr>\n",
              "    <tr>\n",
              "      <th>2020-11-15</th>\n",
              "      <td>-2746.458252</td>\n",
              "    </tr>\n",
              "    <tr>\n",
              "      <th>2020-11-16</th>\n",
              "      <td>-1135.912231</td>\n",
              "    </tr>\n",
              "    <tr>\n",
              "      <th>2020-11-17</th>\n",
              "      <td>1783.215210</td>\n",
              "    </tr>\n",
              "    <tr>\n",
              "      <th>2020-11-18</th>\n",
              "      <td>-2049.604248</td>\n",
              "    </tr>\n",
              "    <tr>\n",
              "      <th>2020-11-19</th>\n",
              "      <td>365.938477</td>\n",
              "    </tr>\n",
              "    <tr>\n",
              "      <th>2020-11-20</th>\n",
              "      <td>1500.538330</td>\n",
              "    </tr>\n",
              "  </tbody>\n",
              "</table>\n",
              "</div>"
            ],
            "text/plain": [
              "             cases_pred\n",
              "2020-11-12  -587.034241\n",
              "2020-11-13  2204.250000\n",
              "2020-11-14  2113.248779\n",
              "2020-11-15 -2746.458252\n",
              "2020-11-16 -1135.912231\n",
              "2020-11-17  1783.215210\n",
              "2020-11-18 -2049.604248\n",
              "2020-11-19   365.938477\n",
              "2020-11-20  1500.538330"
            ]
          },
          "metadata": {
            "tags": []
          },
          "execution_count": 22
        }
      ]
    },
    {
      "cell_type": "code",
      "metadata": {
        "id": "H4b1aUNVi7Wr",
        "colab": {
          "base_uri": "https://localhost:8080/",
          "height": 542
        },
        "outputId": "e8cbb886-18e0-4793-a496-bb85b86d29b3"
      },
      "source": [
        "df['cases'] = cases\n",
        "\n",
        "trace1 = go.Scatter({\n",
        "    'x': df.index,\n",
        "    'y': df['cases'],\n",
        "    'name': 'real cases diff.',\n",
        "    'mode': 'lines'\n",
        "})\n",
        "\n",
        "trace2 = go.Scatter({\n",
        "    'x': df_preds.index,\n",
        "    'y': df_preds['cases_pred'],\n",
        "    'name': 'predicted cases diff.',\n",
        "    'mode': 'lines'\n",
        "})\n",
        "\n",
        "fig = make_subplots(specs = [[{'secondary_y': True}]], subplot_titles = ['Model predictions', ''])\n",
        "\n",
        "fig.add_trace(trace1)\n",
        "fig.add_trace(trace2, secondary_y = True)\n",
        "fig.show()"
      ],
      "execution_count": 25,
      "outputs": [
        {
          "output_type": "display_data",
          "data": {
            "text/html": [
              "<html>\n",
              "<head><meta charset=\"utf-8\" /></head>\n",
              "<body>\n",
              "    <div>\n",
              "            <script src=\"https://cdnjs.cloudflare.com/ajax/libs/mathjax/2.7.5/MathJax.js?config=TeX-AMS-MML_SVG\"></script><script type=\"text/javascript\">if (window.MathJax) {MathJax.Hub.Config({SVG: {font: \"STIX-Web\"}});}</script>\n",
              "                <script type=\"text/javascript\">window.PlotlyConfig = {MathJaxConfig: 'local'};</script>\n",
              "        <script src=\"https://cdn.plot.ly/plotly-latest.min.js\"></script>    \n",
              "            <div id=\"a15dd756-15d8-4271-8959-8c72aec7198a\" class=\"plotly-graph-div\" style=\"height:525px; width:100%;\"></div>\n",
              "            <script type=\"text/javascript\">\n",
              "                \n",
              "                    window.PLOTLYENV=window.PLOTLYENV || {};\n",
              "                    \n",
              "                if (document.getElementById(\"a15dd756-15d8-4271-8959-8c72aec7198a\")) {\n",
              "                    Plotly.newPlot(\n",
              "                        'a15dd756-15d8-4271-8959-8c72aec7198a',\n",
              "                        [{\"mode\": \"lines\", \"name\": \"real cases diff.\", \"type\": \"scatter\", \"x\": [\"2020-10-04\", \"2020-10-05\", \"2020-10-06\", \"2020-10-07\", \"2020-10-08\", \"2020-10-09\", \"2020-10-10\", \"2020-10-11\", \"2020-10-12\", \"2020-10-13\", \"2020-10-14\", \"2020-10-15\", \"2020-10-16\", \"2020-10-17\", \"2020-10-18\", \"2020-10-19\", \"2020-10-20\", \"2020-10-21\", \"2020-10-22\", \"2020-10-23\", \"2020-10-24\", \"2020-10-25\", \"2020-10-26\", \"2020-10-27\", \"2020-10-28\", \"2020-10-29\", \"2020-10-30\", \"2020-10-31\", \"2020-11-01\", \"2020-11-02\", \"2020-11-03\", \"2020-11-04\", \"2020-11-05\", \"2020-11-06\", \"2020-11-07\", \"2020-11-08\", \"2020-11-09\", \"2020-11-10\", \"2020-11-11\", \"2020-11-12\", \"2020-11-13\", \"2020-11-14\", \"2020-11-15\", \"2020-11-16\", \"2020-11-17\", \"2020-11-18\", \"2020-11-19\", \"2020-11-20\"], \"y\": [-433.0, 72.0, 230.0, 767.0, 1277.0, 459.0, 561.0, -1122.0, 216.0, 674.0, 1458.0, 1573.0, -394.0, 1917.0, -1086.0, -1054.0, 1809.0, 749.0, 2067.0, 1525.0, -4.0, -1886.0, -1501.0, 6059.0, 2520.0, 1336.0, 1473.0, 268.0, -4726.0, -1593.0, 3786.0, 5328.0, 2451.0, -57.0, 789.0, -3090.0, -3072.0, 3741.0, -233.0, -2538.0, 1368.0, 1520.0, -3717.0, -1038.0, -1664.0, 731.0, 4092.0, -1511.0]}, {\"mode\": \"lines\", \"name\": \"predicted cases diff.\", \"type\": \"scatter\", \"x\": [\"2020-11-12\", \"2020-11-13\", \"2020-11-14\", \"2020-11-15\", \"2020-11-16\", \"2020-11-17\", \"2020-11-18\", \"2020-11-19\", \"2020-11-20\"], \"xaxis\": \"x\", \"y\": [-587.0342407226562, 2204.25, 2113.248779296875, -2746.458251953125, -1135.9122314453125, 1783.2152099609375, -2049.604248046875, 365.9384765625, 1500.538330078125], \"yaxis\": \"y2\"}],\n",
              "                        {\"annotations\": [{\"font\": {\"size\": 16}, \"showarrow\": false, \"text\": \"Model predictions\", \"x\": 0.47, \"xanchor\": \"center\", \"xref\": \"paper\", \"y\": 1.0, \"yanchor\": \"bottom\", \"yref\": \"paper\"}], \"template\": {\"data\": {\"bar\": [{\"error_x\": {\"color\": \"#2a3f5f\"}, \"error_y\": {\"color\": \"#2a3f5f\"}, \"marker\": {\"line\": {\"color\": \"#E5ECF6\", \"width\": 0.5}}, \"type\": \"bar\"}], \"barpolar\": [{\"marker\": {\"line\": {\"color\": \"#E5ECF6\", \"width\": 0.5}}, \"type\": \"barpolar\"}], \"carpet\": [{\"aaxis\": {\"endlinecolor\": \"#2a3f5f\", \"gridcolor\": \"white\", \"linecolor\": \"white\", \"minorgridcolor\": \"white\", \"startlinecolor\": \"#2a3f5f\"}, \"baxis\": {\"endlinecolor\": \"#2a3f5f\", \"gridcolor\": \"white\", \"linecolor\": \"white\", \"minorgridcolor\": \"white\", \"startlinecolor\": \"#2a3f5f\"}, \"type\": \"carpet\"}], \"choropleth\": [{\"colorbar\": {\"outlinewidth\": 0, \"ticks\": \"\"}, \"type\": \"choropleth\"}], \"contour\": [{\"colorbar\": {\"outlinewidth\": 0, \"ticks\": \"\"}, \"colorscale\": [[0.0, \"#0d0887\"], [0.1111111111111111, \"#46039f\"], [0.2222222222222222, \"#7201a8\"], [0.3333333333333333, \"#9c179e\"], [0.4444444444444444, \"#bd3786\"], [0.5555555555555556, \"#d8576b\"], [0.6666666666666666, \"#ed7953\"], [0.7777777777777778, \"#fb9f3a\"], [0.8888888888888888, \"#fdca26\"], [1.0, \"#f0f921\"]], \"type\": \"contour\"}], \"contourcarpet\": [{\"colorbar\": {\"outlinewidth\": 0, \"ticks\": \"\"}, \"type\": \"contourcarpet\"}], \"heatmap\": [{\"colorbar\": {\"outlinewidth\": 0, \"ticks\": \"\"}, \"colorscale\": [[0.0, \"#0d0887\"], [0.1111111111111111, \"#46039f\"], [0.2222222222222222, \"#7201a8\"], [0.3333333333333333, \"#9c179e\"], [0.4444444444444444, \"#bd3786\"], [0.5555555555555556, \"#d8576b\"], [0.6666666666666666, \"#ed7953\"], [0.7777777777777778, \"#fb9f3a\"], [0.8888888888888888, \"#fdca26\"], [1.0, \"#f0f921\"]], \"type\": \"heatmap\"}], \"heatmapgl\": [{\"colorbar\": {\"outlinewidth\": 0, \"ticks\": \"\"}, \"colorscale\": [[0.0, \"#0d0887\"], [0.1111111111111111, \"#46039f\"], [0.2222222222222222, \"#7201a8\"], [0.3333333333333333, \"#9c179e\"], [0.4444444444444444, \"#bd3786\"], [0.5555555555555556, \"#d8576b\"], [0.6666666666666666, \"#ed7953\"], [0.7777777777777778, \"#fb9f3a\"], [0.8888888888888888, \"#fdca26\"], [1.0, \"#f0f921\"]], \"type\": \"heatmapgl\"}], \"histogram\": [{\"marker\": {\"colorbar\": {\"outlinewidth\": 0, \"ticks\": \"\"}}, \"type\": \"histogram\"}], \"histogram2d\": [{\"colorbar\": {\"outlinewidth\": 0, \"ticks\": \"\"}, \"colorscale\": [[0.0, \"#0d0887\"], [0.1111111111111111, \"#46039f\"], [0.2222222222222222, \"#7201a8\"], [0.3333333333333333, \"#9c179e\"], [0.4444444444444444, \"#bd3786\"], [0.5555555555555556, \"#d8576b\"], [0.6666666666666666, \"#ed7953\"], [0.7777777777777778, \"#fb9f3a\"], [0.8888888888888888, \"#fdca26\"], [1.0, \"#f0f921\"]], \"type\": \"histogram2d\"}], \"histogram2dcontour\": [{\"colorbar\": {\"outlinewidth\": 0, \"ticks\": \"\"}, \"colorscale\": [[0.0, \"#0d0887\"], [0.1111111111111111, \"#46039f\"], [0.2222222222222222, \"#7201a8\"], [0.3333333333333333, \"#9c179e\"], [0.4444444444444444, \"#bd3786\"], [0.5555555555555556, \"#d8576b\"], [0.6666666666666666, \"#ed7953\"], [0.7777777777777778, \"#fb9f3a\"], [0.8888888888888888, \"#fdca26\"], [1.0, \"#f0f921\"]], \"type\": \"histogram2dcontour\"}], \"mesh3d\": [{\"colorbar\": {\"outlinewidth\": 0, \"ticks\": \"\"}, \"type\": \"mesh3d\"}], \"parcoords\": [{\"line\": {\"colorbar\": {\"outlinewidth\": 0, \"ticks\": \"\"}}, \"type\": \"parcoords\"}], \"pie\": [{\"automargin\": true, \"type\": \"pie\"}], \"scatter\": [{\"marker\": {\"colorbar\": {\"outlinewidth\": 0, \"ticks\": \"\"}}, \"type\": \"scatter\"}], \"scatter3d\": [{\"line\": {\"colorbar\": {\"outlinewidth\": 0, \"ticks\": \"\"}}, \"marker\": {\"colorbar\": {\"outlinewidth\": 0, \"ticks\": \"\"}}, \"type\": \"scatter3d\"}], \"scattercarpet\": [{\"marker\": {\"colorbar\": {\"outlinewidth\": 0, \"ticks\": \"\"}}, \"type\": \"scattercarpet\"}], \"scattergeo\": [{\"marker\": {\"colorbar\": {\"outlinewidth\": 0, \"ticks\": \"\"}}, \"type\": \"scattergeo\"}], \"scattergl\": [{\"marker\": {\"colorbar\": {\"outlinewidth\": 0, \"ticks\": \"\"}}, \"type\": \"scattergl\"}], \"scattermapbox\": [{\"marker\": {\"colorbar\": {\"outlinewidth\": 0, \"ticks\": \"\"}}, \"type\": \"scattermapbox\"}], \"scatterpolar\": [{\"marker\": {\"colorbar\": {\"outlinewidth\": 0, \"ticks\": \"\"}}, \"type\": \"scatterpolar\"}], \"scatterpolargl\": [{\"marker\": {\"colorbar\": {\"outlinewidth\": 0, \"ticks\": \"\"}}, \"type\": \"scatterpolargl\"}], \"scatterternary\": [{\"marker\": {\"colorbar\": {\"outlinewidth\": 0, \"ticks\": \"\"}}, \"type\": \"scatterternary\"}], \"surface\": [{\"colorbar\": {\"outlinewidth\": 0, \"ticks\": \"\"}, \"colorscale\": [[0.0, \"#0d0887\"], [0.1111111111111111, \"#46039f\"], [0.2222222222222222, \"#7201a8\"], [0.3333333333333333, \"#9c179e\"], [0.4444444444444444, \"#bd3786\"], [0.5555555555555556, \"#d8576b\"], [0.6666666666666666, \"#ed7953\"], [0.7777777777777778, \"#fb9f3a\"], [0.8888888888888888, \"#fdca26\"], [1.0, \"#f0f921\"]], \"type\": \"surface\"}], \"table\": [{\"cells\": {\"fill\": {\"color\": \"#EBF0F8\"}, \"line\": {\"color\": \"white\"}}, \"header\": {\"fill\": {\"color\": \"#C8D4E3\"}, \"line\": {\"color\": \"white\"}}, \"type\": \"table\"}]}, \"layout\": {\"annotationdefaults\": {\"arrowcolor\": \"#2a3f5f\", \"arrowhead\": 0, \"arrowwidth\": 1}, \"coloraxis\": {\"colorbar\": {\"outlinewidth\": 0, \"ticks\": \"\"}}, \"colorscale\": {\"diverging\": [[0, \"#8e0152\"], [0.1, \"#c51b7d\"], [0.2, \"#de77ae\"], [0.3, \"#f1b6da\"], [0.4, \"#fde0ef\"], [0.5, \"#f7f7f7\"], [0.6, \"#e6f5d0\"], [0.7, \"#b8e186\"], [0.8, \"#7fbc41\"], [0.9, \"#4d9221\"], [1, \"#276419\"]], \"sequential\": [[0.0, \"#0d0887\"], [0.1111111111111111, \"#46039f\"], [0.2222222222222222, \"#7201a8\"], [0.3333333333333333, \"#9c179e\"], [0.4444444444444444, \"#bd3786\"], [0.5555555555555556, \"#d8576b\"], [0.6666666666666666, \"#ed7953\"], [0.7777777777777778, \"#fb9f3a\"], [0.8888888888888888, \"#fdca26\"], [1.0, \"#f0f921\"]], \"sequentialminus\": [[0.0, \"#0d0887\"], [0.1111111111111111, \"#46039f\"], [0.2222222222222222, \"#7201a8\"], [0.3333333333333333, \"#9c179e\"], [0.4444444444444444, \"#bd3786\"], [0.5555555555555556, \"#d8576b\"], [0.6666666666666666, \"#ed7953\"], [0.7777777777777778, \"#fb9f3a\"], [0.8888888888888888, \"#fdca26\"], [1.0, \"#f0f921\"]]}, \"colorway\": [\"#636efa\", \"#EF553B\", \"#00cc96\", \"#ab63fa\", \"#FFA15A\", \"#19d3f3\", \"#FF6692\", \"#B6E880\", \"#FF97FF\", \"#FECB52\"], \"font\": {\"color\": \"#2a3f5f\"}, \"geo\": {\"bgcolor\": \"white\", \"lakecolor\": \"white\", \"landcolor\": \"#E5ECF6\", \"showlakes\": true, \"showland\": true, \"subunitcolor\": \"white\"}, \"hoverlabel\": {\"align\": \"left\"}, \"hovermode\": \"closest\", \"mapbox\": {\"style\": \"light\"}, \"paper_bgcolor\": \"white\", \"plot_bgcolor\": \"#E5ECF6\", \"polar\": {\"angularaxis\": {\"gridcolor\": \"white\", \"linecolor\": \"white\", \"ticks\": \"\"}, \"bgcolor\": \"#E5ECF6\", \"radialaxis\": {\"gridcolor\": \"white\", \"linecolor\": \"white\", \"ticks\": \"\"}}, \"scene\": {\"xaxis\": {\"backgroundcolor\": \"#E5ECF6\", \"gridcolor\": \"white\", \"gridwidth\": 2, \"linecolor\": \"white\", \"showbackground\": true, \"ticks\": \"\", \"zerolinecolor\": \"white\"}, \"yaxis\": {\"backgroundcolor\": \"#E5ECF6\", \"gridcolor\": \"white\", \"gridwidth\": 2, \"linecolor\": \"white\", \"showbackground\": true, \"ticks\": \"\", \"zerolinecolor\": \"white\"}, \"zaxis\": {\"backgroundcolor\": \"#E5ECF6\", \"gridcolor\": \"white\", \"gridwidth\": 2, \"linecolor\": \"white\", \"showbackground\": true, \"ticks\": \"\", \"zerolinecolor\": \"white\"}}, \"shapedefaults\": {\"line\": {\"color\": \"#2a3f5f\"}}, \"ternary\": {\"aaxis\": {\"gridcolor\": \"white\", \"linecolor\": \"white\", \"ticks\": \"\"}, \"baxis\": {\"gridcolor\": \"white\", \"linecolor\": \"white\", \"ticks\": \"\"}, \"bgcolor\": \"#E5ECF6\", \"caxis\": {\"gridcolor\": \"white\", \"linecolor\": \"white\", \"ticks\": \"\"}}, \"title\": {\"x\": 0.05}, \"xaxis\": {\"automargin\": true, \"gridcolor\": \"white\", \"linecolor\": \"white\", \"ticks\": \"\", \"title\": {\"standoff\": 15}, \"zerolinecolor\": \"white\", \"zerolinewidth\": 2}, \"yaxis\": {\"automargin\": true, \"gridcolor\": \"white\", \"linecolor\": \"white\", \"ticks\": \"\", \"title\": {\"standoff\": 15}, \"zerolinecolor\": \"white\", \"zerolinewidth\": 2}}}, \"xaxis\": {\"anchor\": \"y\", \"domain\": [0.0, 0.94]}, \"yaxis\": {\"anchor\": \"x\", \"domain\": [0.0, 1.0]}, \"yaxis2\": {\"anchor\": \"x\", \"overlaying\": \"y\", \"side\": \"right\"}},\n",
              "                        {\"responsive\": true}\n",
              "                    ).then(function(){\n",
              "                            \n",
              "var gd = document.getElementById('a15dd756-15d8-4271-8959-8c72aec7198a');\n",
              "var x = new MutationObserver(function (mutations, observer) {{\n",
              "        var display = window.getComputedStyle(gd).display;\n",
              "        if (!display || display === 'none') {{\n",
              "            console.log([gd, 'removed!']);\n",
              "            Plotly.purge(gd);\n",
              "            observer.disconnect();\n",
              "        }}\n",
              "}});\n",
              "\n",
              "// Listen for the removal of the full notebook cells\n",
              "var notebookContainer = gd.closest('#notebook-container');\n",
              "if (notebookContainer) {{\n",
              "    x.observe(notebookContainer, {childList: true});\n",
              "}}\n",
              "\n",
              "// Listen for the clearing of the current output cell\n",
              "var outputEl = gd.closest('.output');\n",
              "if (outputEl) {{\n",
              "    x.observe(outputEl, {childList: true});\n",
              "}}\n",
              "\n",
              "                        })\n",
              "                };\n",
              "                \n",
              "            </script>\n",
              "        </div>\n",
              "</body>\n",
              "</html>"
            ]
          },
          "metadata": {
            "tags": []
          }
        }
      ]
    },
    {
      "cell_type": "markdown",
      "metadata": {
        "id": "9fg9kvY2MuE0"
      },
      "source": [
        "**If you're on GitHub check out `images/plotly_prediction.png`. :)**"
      ]
    },
    {
      "cell_type": "markdown",
      "metadata": {
        "id": "_NPUxGredQ-Y"
      },
      "source": [
        "### Conclusions"
      ]
    },
    {
      "cell_type": "markdown",
      "metadata": {
        "id": "LiU_CResdTxC"
      },
      "source": [
        "* model is capable of predicting trend correctly although it overestimates a bit;\n",
        "* using the data acquired since March worsens the performance (spring and autumn waves might be considered as separate phenomena on account of different magnitudes);\n",
        "* inaccuracy occurs most likely as a result of too small training set for such type of model (according to our results, classic regression models like ARIMA seem to be the best choice for short-term prediction and lack of rich dataset)."
      ]
    }
  ]
}